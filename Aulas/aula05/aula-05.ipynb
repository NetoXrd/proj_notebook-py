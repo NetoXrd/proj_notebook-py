{
  "metadata": {
    "language_info": {
      "codemirror_mode": {
        "name": "python",
        "version": 3
      },
      "file_extension": ".py",
      "mimetype": "text/x-python",
      "name": "python",
      "nbconvert_exporter": "python",
      "pygments_lexer": "ipython3",
      "version": "3.8"
    },
    "kernelspec": {
      "name": "python",
      "display_name": "Python (Pyodide)",
      "language": "python"
    }
  },
  "nbformat_minor": 4,
  "nbformat": 4,
  "cells": [
    {
      "cell_type": "markdown",
      "source": "01 - crie uma lista com quatro nome, quatro endereços e quatro telefone. Mostre a lista de forma formatada",
      "metadata": {}
    },
    {
      "cell_type": "code",
      "source": "nome=[\n    \"Gustavo\",\n    \"Ana Luiza\",\n    \"Carlos\",\n    \"Maria\"\n]\nidade=[17,20,50,50\n]\nfone=[\n    \"9996-7070\",\n    \"7878-8383\",\n    \"1234-6278\",\n    \"2341-5241\"\n]\nx = 0\nprint(\"{:<14}{:<6}{:<0}\".format(\"nome\",\"idade\",\"telefone\"))\nprint(\"-----------------------------\")\nwhile(x<=3):\n    print(\"{:<14}{:<6}{:<0}\".format(nome[x],idade[x],fone[x]))\n    x += 1\n",
      "metadata": {
        "trusted": true
      },
      "execution_count": 10,
      "outputs": [
        {
          "name": "stdout",
          "text": "nome          idade telefone\n-----------------------------\nGustavo       17    9996-7070\nAna Luiza     20    7878-8383\nCarlos        50    1234-6278\nMaria         50    2341-5241\n",
          "output_type": "stream"
        }
      ]
    },
    {
      "cell_type": "markdown",
      "source": "03 - crie um programa que mostre tres endereços, tres bairros e tres cidades:",
      "metadata": {}
    },
    {
      "cell_type": "code",
      "source": "endereco = [\n    \"Jd união\",\n    \"Nacões\",\n    \"São Gabriel\"\n]\nbairros = [\n    \"Rua Nilza\",\n    \"Rua Tales\",\n    \"Rua Jose\"\n]\ncidades = [\n    \"Salto-sp\",\n    \"Guarulhos\",\n    \"Piracicaba\"\n]\nnumeros = [\n    \"134\", \n    \"231\",\n    \"269\"\n]\n\n\nx = 0\nprint(\"|{:<22}|{:<20}|{:<22}|{:<0}|\".format(\"cidades\",\"endereço\",\"bairros\",\"numeros\"))\nprint(\"|----------------------|--------------------|----------------------|---------------\")\nwhile(x<=2):\n    print(\"|{:<22}|{:<20}|{:<22}|{:<0}|\".format(cidades[x],endereco[x],bairros[x],numeros[x]))\n    x += 1\n          ",
      "metadata": {
        "trusted": true
      },
      "execution_count": 47,
      "outputs": [
        {
          "name": "stdout",
          "text": "|cidades               |endereço            |bairros               |numeros|\n|----------------------|--------------------|----------------------|---------------\n|Salto-sp              |Jd união            |Rua Nilza             |134|\n|Guarulhos             |Nacões              |Rua Tales             |231|\n|Piracicaba            |São Gabriel         |Rua Jose              |269|\n",
          "output_type": "stream"
        }
      ]
    },
    {
      "cell_type": "code",
      "source": "",
      "metadata": {},
      "execution_count": null,
      "outputs": []
    }
  ]
}