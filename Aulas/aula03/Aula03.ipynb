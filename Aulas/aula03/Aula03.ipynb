{
  "metadata": {
    "kernelspec": {
      "name": "python",
      "display_name": "Python (Pyodide)",
      "language": "python"
    },
    "language_info": {
      "codemirror_mode": {
        "name": "python",
        "version": 3
      },
      "file_extension": ".py",
      "mimetype": "text/x-python",
      "name": "python",
      "nbconvert_exporter": "python",
      "pygments_lexer": "ipython3",
      "version": "3.8"
    }
  },
  "nbformat_minor": 5,
  "nbformat": 4,
  "cells": [
    {
      "cell_type": "markdown",
      "source": "01 - Crie um programa que entre com o valor zero e conte ate cinco",
      "metadata": {},
      "id": "1aeb8051-4983-425a-9bec-3cc17d1c0677"
    },
    {
      "cell_type": "code",
      "source": "x = 0\nwhile (x<=5):\n    print(x)\n    x += 1",
      "metadata": {
        "trusted": true
      },
      "execution_count": 1,
      "outputs": [
        {
          "name": "stdout",
          "text": "0\n1\n2\n3\n4\n5\n",
          "output_type": "stream"
        }
      ],
      "id": "5189eebd-29c5-4b61-a326-4e8aca4c9d0d"
    },
    {
      "cell_type": "markdown",
      "source": "02 - Crie um programa que guarde cinco nomes e demosntre o numero armazenado:",
      "metadata": {},
      "id": "5f6ca2ed-67a0-4768-9039-b575c71548a0"
    },
    {
      "cell_type": "code",
      "source": "nome =['Douglas','Aline','Murilo','Carlos','Roseli']\n\nx = 0\nwhile(x<5):\n    print(x,\" - \",nome[x])\n    x += 1",
      "metadata": {
        "trusted": true
      },
      "execution_count": 3,
      "outputs": [
        {
          "name": "stdout",
          "text": "0  -  Douglas\n1  -  Aline\n2  -  Murilo\n3  -  Carlos\n4  -  Roseli\n",
          "output_type": "stream"
        }
      ],
      "id": "0983aad5-4daa-413f-8dc4-966810ec692a"
    },
    {
      "cell_type": "markdown",
      "source": "03 - Crie um programa que guarde cinco nomes e cinco idades e demonstre o numero armazenado:",
      "metadata": {},
      "id": "e8c4a210-6e43-457c-a88b-71a58c1f5f8e"
    },
    {
      "cell_type": "code",
      "source": "nome =['Douglas','Aline','Murilo','Carlos','Roseli']\nidade =['22','15','16','16','18']\n\nx = 0\nwhile(x<5):\n    print(x,\" - \",nome[x],idade[x],\"anos\")\n    x += 1",
      "metadata": {
        "trusted": true
      },
      "execution_count": 1,
      "outputs": [
        {
          "name": "stdout",
          "text": "0  -  Douglas 22 anos\n1  -  Aline 15 anos\n2  -  Murilo 16 anos\n3  -  Carlos 16 anos\n4  -  Roseli 18 anos\n",
          "output_type": "stream"
        }
      ],
      "id": "cec4b858-84b4-4df1-a463-74789e2f081f"
    },
    {
      "cell_type": "code",
      "source": "",
      "metadata": {},
      "execution_count": null,
      "outputs": [],
      "id": "76c642b2-1b49-49b2-9e4a-680877e833c3"
    }
  ]
}