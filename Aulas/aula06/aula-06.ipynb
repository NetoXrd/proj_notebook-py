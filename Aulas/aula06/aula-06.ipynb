{
  "metadata": {
    "language_info": {
      "codemirror_mode": {
        "name": "python",
        "version": 3
      },
      "file_extension": ".py",
      "mimetype": "text/x-python",
      "name": "python",
      "nbconvert_exporter": "python",
      "pygments_lexer": "ipython3",
      "version": "3.8"
    },
    "kernelspec": {
      "name": "python",
      "display_name": "Python (Pyodide)",
      "language": "python"
    }
  },
  "nbformat_minor": 4,
  "nbformat": 4,
  "cells": [
    {
      "cell_type": "markdown",
      "source": "01 - crie um progrma que crie um objeto e um construtor com nome pessoa. Adicione em uma lista com quatro pessoas:",
      "metadata": {}
    },
    {
      "cell_type": "code",
      "source": "class pessoa:\n    def __init__(self,nome,idade,cargo,salario):\n        self.nome = nome\n        self.idade = idade\n        self.cargo = cargo\n        self.salario = salario\n\ncadastro = []\n\ncadastro.append(pessoa(\"Gustavo\",50,\"Diretor\",\"R$10.000,00\"))\ncadastro.append(pessoa(\"Carlos\",80,\"Auxiliar\",\"R$1.200,00\"))\ncadastro.append(pessoa(\"Samuel\",40,\"Assistente\",\"R$1.300,00\"))\ncadastro.append(pessoa(\"Enzo\",18,\"Estagiario\",\"R$600,00\"))\ncadastro.append(pessoa(\"Manuela\",18,\"Aux. Admin\",\"R$1.300,00\"))\n                        \ncadastro.sort(key=lambda x: x.nome)\n                        \nfor v in  cadastro:\n    print(\"{:<10}{:<4}{:<12}{:<0}\".format(v.nome,v.idade,v.cargo,v.salario))\n\n\n\n",
      "metadata": {
        "trusted": true
      },
      "execution_count": 9,
      "outputs": [
        {
          "name": "stdout",
          "text": "Carlos    80  Auxiliar    R$1.200,00\nEnzo      18  Estagiario  R$600,00\nGustavo   50  Diretor     R$10.000,00\nManuela   18  Aux. Admin  R$1.300,00\nSamuel    40  Assistente  R$1.300,00\n",
          "output_type": "stream"
        }
      ]
    },
    {
      "cell_type": "markdown",
      "source": "02 - Crie um programa com classe carro onde possua, modelo, marca, ano, placa.Adicione tres carros",
      "metadata": {}
    },
    {
      "cell_type": "code",
      "source": "class carro:\n    def __init__(self,modelo,marca,ano,placa):\n    self.modelo = modelo\n    self.marca = marca\n    self.ano = ano\n    self.placa = placa\n\ncadastro = []\n\ncadastro.append(carro(\"e-tron\",\"audi\"LSN4149\",\"2022\"\ncadastro.append(carro(\"M4\",\"BMW\"GSN4746\",\"2019\"\ncadastro.append(carro(\"CAMARO\",\"CHEVROLET\"LSN4149\",\"2000\"\n                      \nfor v in cadastro\n    print(\"{:<12}{:<20}{:<20}{:<0}\".format(v.marca,v.modelo,v.Ano,v.placa\n                      \n    ",
      "metadata": {
        "trusted": true
      },
      "execution_count": 12,
      "outputs": [
        {
          "ename": "<class 'IndentationError'>",
          "evalue": "expected an indented block after function definition on line 2 (<ipython-input-12-bb7cd0f9e9ba>, line 3)",
          "traceback": [
            "\u001b[0;36m  Cell \u001b[0;32mIn [12], line 3\u001b[0;36m\u001b[0m\n\u001b[0;31m    self.modelo = modelo\u001b[0m\n\u001b[0m    ^\u001b[0m\n\u001b[0;31mIndentationError\u001b[0m\u001b[0;31m:\u001b[0m expected an indented block after function definition on line 2\n"
          ],
          "output_type": "error"
        }
      ]
    },
    {
      "cell_type": "code",
      "source": "",
      "metadata": {},
      "execution_count": null,
      "outputs": []
    }
  ]
}